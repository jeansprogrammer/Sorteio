{
  "cells": [
    {
      "cell_type": "markdown",
      "metadata": {
        "id": "view-in-github",
        "colab_type": "text"
      },
      "source": [
        "<a href=\"https://colab.research.google.com/github/jeansprogrammer/Sorteio/blob/main/Sorteio.ipynb\" target=\"_parent\"><img src=\"https://colab.research.google.com/assets/colab-badge.svg\" alt=\"Open In Colab\"/></a>"
      ]
    },
    {
      "cell_type": "code",
      "execution_count": 1,
      "metadata": {
        "colab": {
          "base_uri": "https://localhost:8080/"
        },
        "id": "OAa-eYENfeho",
        "outputId": "5b6606f1-4e1b-4fe9-acfa-b12d89662cc9"
      },
      "outputs": [
        {
          "output_type": "stream",
          "name": "stdout",
          "text": [
            "---------------SORTEIO---------------\n",
            "\n",
            "Escreva o nome dos participantes.\n",
            "Para parar de adicionar digite: PARE\n",
            "\n",
            "JEAN\n",
            "JOELMA\n",
            "JAMILE\n",
            "JEFFERSON\n",
            "PARE\n",
            "\n",
            "Quantas pessoas você quer sortear?\n",
            "2\n",
            "\n",
            "OS SORTEADOS FORAM!\n",
            "O 1º sorteado foi JEFFERSON!\n",
            "O 2º sorteado foi JAMILE!\n"
          ]
        }
      ],
      "source": [
        "import random\n",
        "x = \"\"\n",
        "participantes = []\n",
        "\n",
        "print(\"---------------SORTEIO---------------\")\n",
        "print(\"\\nEscreva o nome dos participantes.\")\n",
        "print(\"Para parar de adicionar digite: PARE\\n\")\n",
        "\n",
        "while x != 'PARE':\n",
        "  nome = (str(input()))\n",
        "  if nome == 'PARE':\n",
        "    x = \"PARE\"\n",
        "  else:\n",
        "    participantes.append(nome)\n",
        "\n",
        "print(\"\\nQuantas pessoas você quer sortear?\")\n",
        "quantidade = int(input())\n",
        "\n",
        "print(\"\\nOS SORTEADOS FORAM!\")\n",
        "for j in range(1,quantidade+1):\n",
        "  sorteado = random.choice(participantes)\n",
        "  participantes.remove(sorteado)\n",
        "  print(f'O {j}º sorteado foi {sorteado}!')"
      ]
    }
  ],
  "metadata": {
    "colab": {
      "provenance": [],
      "authorship_tag": "ABX9TyM36PawEtnJX10nnpgCRzVO",
      "include_colab_link": true
    },
    "kernelspec": {
      "display_name": "Python 3",
      "name": "python3"
    },
    "language_info": {
      "name": "python"
    }
  },
  "nbformat": 4,
  "nbformat_minor": 0
}